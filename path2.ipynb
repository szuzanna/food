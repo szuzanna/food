{
  "nbformat": 4,
  "nbformat_minor": 0,
  "metadata": {
    "colab": {
      "provenance": []
    },
    "kernelspec": {
      "name": "python3",
      "display_name": "Python 3"
    },
    "language_info": {
      "name": "python"
    }
  },
  "cells": [
    {
      "cell_type": "markdown",
      "source": [
        "We create Food graph with intreuction form https://neo4j.com/graphgists/dd3dedcf-c377-4575-84f4-4d0d30b2a4c5/"
      ],
      "metadata": {
        "id": "YLK-Hga2_2XD"
      }
    },
    {
      "cell_type": "code",
      "source": [
        "pip install neo4j\n"
      ],
      "metadata": {
        "colab": {
          "base_uri": "https://localhost:8080/"
        },
        "id": "ocV5E2vhBCzr",
        "outputId": "520ece47-56a7-48b2-b88f-084b8567c4e9"
      },
      "execution_count": 1,
      "outputs": [
        {
          "output_type": "stream",
          "name": "stdout",
          "text": [
            "Looking in indexes: https://pypi.org/simple, https://us-python.pkg.dev/colab-wheels/public/simple/\n",
            "Collecting neo4j\n",
            "  Downloading neo4j-5.2.1.tar.gz (174 kB)\n",
            "\u001b[K     |████████████████████████████████| 174 kB 12.8 MB/s \n",
            "\u001b[?25hRequirement already satisfied: pytz in /usr/local/lib/python3.7/dist-packages (from neo4j) (2022.6)\n",
            "Building wheels for collected packages: neo4j\n",
            "  Building wheel for neo4j (setup.py) ... \u001b[?25l\u001b[?25hdone\n",
            "  Created wheel for neo4j: filename=neo4j-5.2.1-py3-none-any.whl size=249499 sha256=458cde597c0d355022642404d6eea7684dd5b3ac6ef2019013ee4e73e324e503\n",
            "  Stored in directory: /root/.cache/pip/wheels/b3/8c/94/ad2ec76fee32d266ed8954ba221bc716e468f24d1f07d98f92\n",
            "Successfully built neo4j\n",
            "Installing collected packages: neo4j\n",
            "Successfully installed neo4j-5.2.1\n"
          ]
        }
      ]
    },
    {
      "cell_type": "code",
      "source": [
        "#Import biblioteki do tworzenia i obsługi modelu word2vec\n",
        "from gensim.models import Word2Vec\n",
        "#Import bibliteki niezbędnej do komunikacji z bazą danych w Neo4j\n",
        "from neo4j import GraphDatabase, unit_of_work"
      ],
      "metadata": {
        "id": "YMaNo-N1Cpw4"
      },
      "execution_count": 2,
      "outputs": []
    },
    {
      "cell_type": "code",
      "source": [
        "host = 'bolt://54.144.195.217:7687'\n",
        "user = 'neo4j'\n",
        "password = 'bridge-stares-stopper'\n",
        "driver = GraphDatabase.driver(host,auth=(user, password))"
      ],
      "metadata": {
        "id": "GwA_UvZlDRAC"
      },
      "execution_count": 3,
      "outputs": []
    },
    {
      "cell_type": "code",
      "source": [
        "unit_of_work(timeout=240000)"
      ],
      "metadata": {
        "colab": {
          "base_uri": "https://localhost:8080/"
        },
        "id": "UZHc2h-2O9Ia",
        "outputId": "4e8a448a-0090-475f-e164-327e65178192"
      },
      "execution_count": 4,
      "outputs": [
        {
          "output_type": "execute_result",
          "data": {
            "text/plain": [
              "<function neo4j.work.query.unit_of_work.<locals>.wrapper(f)>"
            ]
          },
          "metadata": {},
          "execution_count": 4
        }
      ]
    },
    {
      "cell_type": "markdown",
      "source": [
        "CALL gds.graph.project(\n",
        "  'food',            \n",
        "  ['Ingredient','Recipe'],             \n",
        "  'CONTAINS_INGREDIENT'               \n",
        ")"
      ],
      "metadata": {
        "id": "LPRdFSdnN4CO"
      }
    },
    {
      "cell_type": "code",
      "execution_count": 27,
      "metadata": {
        "id": "O0_uDhAw_xpi"
      },
      "outputs": [],
      "source": [
        "# Define random walk query\n",
        "random_walks_query = \"\"\"\n",
        "CALL gds.randomWalk.stream( 'food', {\n",
        "  walkLength: 10,\n",
        "  walksPerNode: 15,\n",
        "  inOutFactor:0.6,\n",
        "  returnFactor:1.0,\n",
        "  concurrency: 4,\n",
        "  randomSeed: 18\n",
        "})\n",
        "YIELD nodeIds\n",
        "RETURN [id in nodeIds | gds.util.asNode(id).name] as walks\n",
        "\"\"\"\n",
        "# Fetch data from neo4j\n",
        "with driver.session() as session:\n",
        "    walks = session.run(random_walks_query)\n",
        "    # Train the word2vec model\n",
        "    clean_walks = [row['walks'] for row in walks]\n",
        "model = Word2Vec(clean_walks, sg=1, window=5, size=100)\n",
        "\n",
        "\n",
        "model.save(\"foodEmbedding_default.model\")"
      ]
    },
    {
      "cell_type": "code",
      "source": [
        "model.most_similar('chicken')"
      ],
      "metadata": {
        "colab": {
          "base_uri": "https://localhost:8080/"
        },
        "id": "ocEpWA7Zgw4I",
        "outputId": "49f00aa0-2715-4a32-f815-714b06dadfcf"
      },
      "execution_count": 28,
      "outputs": [
        {
          "output_type": "stream",
          "name": "stderr",
          "text": [
            "/usr/local/lib/python3.7/dist-packages/ipykernel_launcher.py:1: DeprecationWarning: Call to deprecated `most_similar` (Method will be removed in 4.0.0, use self.wv.most_similar() instead).\n",
            "  \"\"\"Entry point for launching an IPython kernel.\n"
          ]
        },
        {
          "output_type": "execute_result",
          "data": {
            "text/plain": [
              "[('olive oil', 0.9998606443405151),\n",
              " ('garlic clove', 0.9998373985290527),\n",
              " ('plain flour', 0.9998284578323364),\n",
              " ('butter', 0.9998241066932678),\n",
              " ('lime', 0.9998089075088501),\n",
              " ('cherry tomato', 0.9998054504394531),\n",
              " ('potato', 0.9997981786727905),\n",
              " ('butternut squash', 0.9997943639755249),\n",
              " ('cucumber', 0.9997928738594055),\n",
              " ('chicken stock', 0.9997913837432861)]"
            ]
          },
          "metadata": {},
          "execution_count": 28
        }
      ]
    },
    {
      "cell_type": "code",
      "source": [
        "model.most_similar('sugar')"
      ],
      "metadata": {
        "colab": {
          "base_uri": "https://localhost:8080/"
        },
        "id": "qoknJw4mE05K",
        "outputId": "1c752bc3-9d49-45bb-980c-fd3da7b2eb6c"
      },
      "execution_count": 31,
      "outputs": [
        {
          "output_type": "stream",
          "name": "stderr",
          "text": [
            "/usr/local/lib/python3.7/dist-packages/ipykernel_launcher.py:1: DeprecationWarning: Call to deprecated `most_similar` (Method will be removed in 4.0.0, use self.wv.most_similar() instead).\n",
            "  \"\"\"Entry point for launching an IPython kernel.\n"
          ]
        },
        {
          "output_type": "execute_result",
          "data": {
            "text/plain": [
              "[('onion', 0.999841570854187),\n",
              " ('plain flour', 0.9998328685760498),\n",
              " ('egg', 0.9998183250427246),\n",
              " ('garlic clove', 0.9998116493225098),\n",
              " ('carrot', 0.9998116493225098),\n",
              " ('butter', 0.9998053312301636),\n",
              " ('milk', 0.9998040199279785),\n",
              " ('nutmeg', 0.9998010993003845),\n",
              " ('potato', 0.9997948408126831),\n",
              " ('cinnamon', 0.9997947216033936)]"
            ]
          },
          "metadata": {},
          "execution_count": 31
        }
      ]
    },
    {
      "cell_type": "code",
      "source": [
        "model.save(\"foodEmbedding.model\")"
      ],
      "metadata": {
        "id": "SEvrqmg8Dk0b"
      },
      "execution_count": 17,
      "outputs": []
    }
  ]
}